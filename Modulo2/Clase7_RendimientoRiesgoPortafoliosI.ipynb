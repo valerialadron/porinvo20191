{
 "cells": [
  {
   "cell_type": "markdown",
   "metadata": {},
   "source": [
    "# ¿Cómo medir rendimiento y riesgo en un portafolio? I\n",
    "\n",
    "<img style=\"float: right; margin: 0px 0px 15px 15px;\" src=\"http://www.picpedia.org/clipboard/images/stock-portfolio.jpg\" width=\"600px\" height=\"400px\" />\n",
    "\n",
    "> En el módulo anterior adquirimos técnicas analíticas (con base en teoría de probabilidad) para describir la distribución de los rendimientos de un activo.\n",
    "\n",
    "> En este módulo adquiriremos herramientas analíticas para describir la distribución de rendimientos de un portafolio de activos financieros.\n",
    "\n",
    "> Antes de formular el problema de selección óptima de portafolios, necesitamos tener medidas de rendimiento y riesgo del portafolio.\n",
    "\n",
    "> La idea principal que nos debemos llevar de este módulo es que el riesgo de un portafolio no se obtiene simplemente sumando los riesgos individuales de cada activo que conforma el portafolio. Por el contrario, un portafolio puede tener menos riesgo que los instrumentos mismos: **diversificación**."
   ]
  },
  {
   "cell_type": "markdown",
   "metadata": {},
   "source": [
    "**Objetivos:**\n",
    "- Medir rendimiento esperado en un portafolio a partir de los rendimientos esperados de los activos que lo conforman.\n",
    "- Medir el riesgo en un portafolio.\n",
    "\n",
    "*Referencias*\n",
    "- Notas del curso \"Portfolio Selection and Risk Management\", Rice University, disponible en Coursera.\n",
    "___"
   ]
  },
  {
   "cell_type": "markdown",
   "metadata": {},
   "source": [
    "## 1. Midiendo rendimientos esperados de un portafolio"
   ]
  },
  {
   "cell_type": "markdown",
   "metadata": {},
   "source": [
    "- Entonces, ya sabemos obtener el rendimiento esperado de un único activo:\n",
    " - dada la distribución de probabilidad de los posibles escenarios económicos, o\n",
    " - dada una serie de tiempo de rendimientos (precios) pasados.\n",
    "- De manera similar, aprendimos a medir el riesgo en un único activo.\n",
    "- Raramente invertimos en un único activo; típicamente, invertimos en una colección de diferentes activos: invertimos en un **portafolio**.\n",
    "- Entonces, necesitamos desarrollar medidas similares de rendimiento y riesgo para un portafolio de activos."
   ]
  },
  {
   "cell_type": "markdown",
   "metadata": {},
   "source": [
    "### 1.1. Recordamos para un solo activo\n",
    "- Dada la distribución de rendimientos, usamos la tendecia central (media).\n",
    "- El rendimiento esperado es entonces el promedio ponderado por probabilidad de los rendimientos posibles."
   ]
  },
  {
   "cell_type": "markdown",
   "metadata": {},
   "source": [
    "**Ejemplo.** Supongamos que tenemos inversión en activos de Toyota, Walmart y Pfizer. Tenemos cuatro posibles estados económicos:"
   ]
  },
  {
   "cell_type": "code",
   "execution_count": 1,
   "metadata": {},
   "outputs": [],
   "source": [
    "import numpy as np\n",
    "import pandas as pd"
   ]
  },
  {
   "cell_type": "code",
   "execution_count": 2,
   "metadata": {},
   "outputs": [
    {
     "data": {
      "text/html": [
       "<div>\n",
       "<style scoped>\n",
       "    .dataframe tbody tr th:only-of-type {\n",
       "        vertical-align: middle;\n",
       "    }\n",
       "\n",
       "    .dataframe tbody tr th {\n",
       "        vertical-align: top;\n",
       "    }\n",
       "\n",
       "    .dataframe thead th {\n",
       "        text-align: right;\n",
       "    }\n",
       "</style>\n",
       "<table border=\"1\" class=\"dataframe\">\n",
       "  <thead>\n",
       "    <tr style=\"text-align: right;\">\n",
       "      <th></th>\n",
       "      <th>Prob</th>\n",
       "      <th>Toyota</th>\n",
       "      <th>Walmart</th>\n",
       "      <th>Pfizer</th>\n",
       "    </tr>\n",
       "    <tr>\n",
       "      <th>State</th>\n",
       "      <th></th>\n",
       "      <th></th>\n",
       "      <th></th>\n",
       "      <th></th>\n",
       "    </tr>\n",
       "  </thead>\n",
       "  <tbody>\n",
       "    <tr>\n",
       "      <th>Expansion</th>\n",
       "      <td>0.1</td>\n",
       "      <td>0.060</td>\n",
       "      <td>0.045</td>\n",
       "      <td>0.025</td>\n",
       "    </tr>\n",
       "    <tr>\n",
       "      <th>Normal</th>\n",
       "      <td>0.4</td>\n",
       "      <td>0.075</td>\n",
       "      <td>0.055</td>\n",
       "      <td>-0.005</td>\n",
       "    </tr>\n",
       "    <tr>\n",
       "      <th>Recesion</th>\n",
       "      <td>0.3</td>\n",
       "      <td>0.020</td>\n",
       "      <td>0.040</td>\n",
       "      <td>0.010</td>\n",
       "    </tr>\n",
       "    <tr>\n",
       "      <th>Depresion</th>\n",
       "      <td>0.2</td>\n",
       "      <td>-0.030</td>\n",
       "      <td>-0.010</td>\n",
       "      <td>0.130</td>\n",
       "    </tr>\n",
       "  </tbody>\n",
       "</table>\n",
       "</div>"
      ],
      "text/plain": [
       "           Prob  Toyota  Walmart  Pfizer\n",
       "State                                   \n",
       "Expansion   0.1   0.060    0.045   0.025\n",
       "Normal      0.4   0.075    0.055  -0.005\n",
       "Recesion    0.3   0.020    0.040   0.010\n",
       "Depresion   0.2  -0.030   -0.010   0.130"
      ]
     },
     "execution_count": 2,
     "metadata": {},
     "output_type": "execute_result"
    }
   ],
   "source": [
    "# Creamos tabla\n",
    "tabla = pd.DataFrame(columns=['Prob', 'Toyota', 'Walmart', 'Pfizer'], index=['Expansion', 'Normal', 'Recesion', 'Depresion'])\n",
    "tabla.index.name = 'State'\n",
    "tabla['Prob']=np.array([0.1, 0.4, 0.3, 0.2])\n",
    "tabla['Toyota']=np.array([0.06, 0.075, 0.02, -0.03])\n",
    "tabla['Walmart']=np.array([0.045, 0.055, 0.04, -0.01])\n",
    "tabla['Pfizer']=np.array([0.025, -0.005, 0.01, 0.13])\n",
    "\n",
    "tabla.round(6)"
   ]
  },
  {
   "cell_type": "markdown",
   "metadata": {},
   "source": [
    "Calcular el rendimiento esperado para cada compañía."
   ]
  },
  {
   "cell_type": "code",
   "execution_count": 3,
   "metadata": {},
   "outputs": [],
   "source": [
    "# Toyota\n"
   ]
  },
  {
   "cell_type": "code",
   "execution_count": 4,
   "metadata": {},
   "outputs": [],
   "source": [
    "# Walmart\n"
   ]
  },
  {
   "cell_type": "code",
   "execution_count": 5,
   "metadata": {},
   "outputs": [],
   "source": [
    "# Pfizer\n"
   ]
  },
  {
   "cell_type": "markdown",
   "metadata": {},
   "source": [
    "### 1.2. ¿Y si tenemos un portafolio de activos financieros?\n",
    "\n",
    "> Un **portafolio** es una colección de diferentes activos junto con una ponderación relativa a cada activo. De esta manera, el rendimiento de un portafolio se trata como el rendimiento de un solo activo."
   ]
  },
  {
   "cell_type": "markdown",
   "metadata": {},
   "source": [
    "Entonces, si $r_i$ y $w_i$ son el rendimiento y la ponderación del activo $i$ ($i=1,2,\\dots,n$), respectivamente, se tiene que el rendimiento del portafolio $r_p$ es:\n",
    "\n",
    "$$r_p=\\sum_{i=1}^{n}w_ir_i$$"
   ]
  },
  {
   "cell_type": "markdown",
   "metadata": {},
   "source": [
    "**Ejemplo.** Consideramos un portafolio conformado por solamente dos activos de la tabla anterior. La ponderación relativa a cada activo es $0.5$ Toyota y $0.5$ Pfizer.\n",
    "\n",
    "Revisemos el rendimiento de este portafolio en cada estado económico."
   ]
  },
  {
   "cell_type": "code",
   "execution_count": 6,
   "metadata": {},
   "outputs": [],
   "source": [
    "# Calculamos rendimiento del portafolio en cada estado\n"
   ]
  },
  {
   "cell_type": "markdown",
   "metadata": {},
   "source": [
    "Ya que tenemos los posibles rendimientos del portafolio junto con las probabilidades asociadas, podemos calcular el rendimiento esperado del portafolio (tal cual lo hacíamos para un solo activo):"
   ]
  },
  {
   "cell_type": "code",
   "execution_count": 7,
   "metadata": {},
   "outputs": [],
   "source": [
    "# Calculamos rendimiento esperado del portafolio\n"
   ]
  },
  {
   "cell_type": "code",
   "execution_count": 8,
   "metadata": {},
   "outputs": [],
   "source": [
    "# Recordamos rendimientos esperados individuales\n"
   ]
  },
  {
   "cell_type": "code",
   "execution_count": 9,
   "metadata": {},
   "outputs": [],
   "source": [
    "##### Rendimiento esperado ponderado\n"
   ]
  },
  {
   "cell_type": "markdown",
   "metadata": {},
   "source": [
    "**Actividad.** Consideramos un portafolio conformado por solamente dos activos de la tabla anterior. La ponderación relativa a cada activo es $0.5$ Walmart y $0.5$ Pfizer.\n",
    "- Calcular el rendimiento de este portafolio en cada estado económico.\n",
    "- Calcular el rendimiento esperado del portafolio."
   ]
  },
  {
   "cell_type": "code",
   "execution_count": 10,
   "metadata": {},
   "outputs": [],
   "source": [
    "# Calculamos rendimiento del portafolio en cada estado\n"
   ]
  },
  {
   "cell_type": "code",
   "execution_count": 11,
   "metadata": {},
   "outputs": [],
   "source": [
    "# Mostramos\n"
   ]
  },
  {
   "cell_type": "code",
   "execution_count": 12,
   "metadata": {},
   "outputs": [],
   "source": [
    "# Calculamos rendimiento esperado del portafolio\n"
   ]
  },
  {
   "cell_type": "code",
   "execution_count": 14,
   "metadata": {},
   "outputs": [],
   "source": [
    "# Recordamos rendimientos esperados individuales\n"
   ]
  },
  {
   "cell_type": "code",
   "execution_count": 15,
   "metadata": {},
   "outputs": [],
   "source": [
    "# Rendimiento esperado ponderado\n"
   ]
  },
  {
   "cell_type": "markdown",
   "metadata": {},
   "source": [
    "Alternativamente, no es difícil notar en este punto, que podríamos haber encontrado el rendimiento esperado del portafolio usando los rendimientos esperados de cada uno de los activos."
   ]
  },
  {
   "cell_type": "markdown",
   "metadata": {},
   "source": [
    "En general, dado que $r_p=\\sum_{i=1}^{n}w_ir_i$, se tiene:\n",
    "\n",
    "$$E[r_p]=E\\left[\\sum_{i=1}^{n}w_ir_i\\right]=\\sum_{i=1}^{n}w_iE\\left[r_i\\right],$$\n",
    "\n",
    "pues la esperanza es un operador lineal."
   ]
  },
  {
   "cell_type": "markdown",
   "metadata": {},
   "source": [
    "**Actividad.** Consideramos un portafolio conformado por los tres activos de la tabla anterior, e igualmente ponderado en cada activo.\n",
    "- Calcular el rendimiento esperado del portafolio."
   ]
  },
  {
   "cell_type": "code",
   "execution_count": 16,
   "metadata": {},
   "outputs": [],
   "source": [
    "# Calcular\n"
   ]
  },
  {
   "cell_type": "markdown",
   "metadata": {},
   "source": [
    "**Conclusión.** El rendimiento esperado de un portafolio es simplemente el promedio ponderado (con las ponderaciones del portafolio) del rendimiento esperado de los activos individuales.\n",
    "___"
   ]
  },
  {
   "cell_type": "markdown",
   "metadata": {},
   "source": [
    "## 2. Midiendo el riesgo en un portafolio"
   ]
  },
  {
   "cell_type": "markdown",
   "metadata": {},
   "source": [
    "### 2.1. Recordamos para un solo activo\n",
    "- Para un solo activo usamos la dispersión, medida con la desviación estándar de la distribución de rendimientos.\n",
    "- La varianza es el promedio ponderado por probabilidad de las desviaciones al cuadrado de la media.\n",
    "\n",
    "Aprendimos que el rendimiento esperado de un portafolio es el promedio ponderado del rendimiento esperado de los activos individuales. Este no es el caso para el riesgo."
   ]
  },
  {
   "cell_type": "markdown",
   "metadata": {},
   "source": [
    "**Ejemplo.** Retomamos el ejemplo de Toyota, Walmart y Pfizer."
   ]
  },
  {
   "cell_type": "code",
   "execution_count": 17,
   "metadata": {},
   "outputs": [],
   "source": [
    "# Incluimos una fila para rendimientos esperados y otra para volatilidad\n",
    "# Creamos tabla\n"
   ]
  },
  {
   "cell_type": "markdown",
   "metadata": {},
   "source": [
    "Calcular la volatilidad para cada compañía"
   ]
  },
  {
   "cell_type": "code",
   "execution_count": 18,
   "metadata": {},
   "outputs": [],
   "source": [
    "# Toyota\n"
   ]
  },
  {
   "cell_type": "code",
   "execution_count": 19,
   "metadata": {},
   "outputs": [],
   "source": [
    "# Walmart\n"
   ]
  },
  {
   "cell_type": "code",
   "execution_count": 20,
   "metadata": {},
   "outputs": [],
   "source": [
    "# Pfizer\n"
   ]
  },
  {
   "cell_type": "markdown",
   "metadata": {},
   "source": [
    "### 2.2. ¿Y si tenemos un portafolio de activos financieros?"
   ]
  },
  {
   "cell_type": "markdown",
   "metadata": {},
   "source": [
    "**Ejemplo.** Consideramos, de nuevo, un portafolio $0.5$ Toyota y $0.5$ Pfizer."
   ]
  },
  {
   "cell_type": "code",
   "execution_count": 21,
   "metadata": {},
   "outputs": [],
   "source": [
    "# Inclusión del portafolio\n"
   ]
  },
  {
   "cell_type": "markdown",
   "metadata": {},
   "source": [
    "Encontrar la volatilidad del portafolio."
   ]
  },
  {
   "cell_type": "code",
   "execution_count": 22,
   "metadata": {},
   "outputs": [],
   "source": [
    "# Volatilidad\n"
   ]
  },
  {
   "cell_type": "code",
   "execution_count": 23,
   "metadata": {},
   "outputs": [],
   "source": [
    "# Volatilidades individuales\n"
   ]
  },
  {
   "cell_type": "code",
   "execution_count": 24,
   "metadata": {},
   "outputs": [],
   "source": [
    "# Volatilidad ponderada\n"
   ]
  },
  {
   "cell_type": "markdown",
   "metadata": {},
   "source": [
    "#### ¿Qué pasó?\n",
    "- Combinamos con igual proporción un activo con volatilidad del 4.02% con otro de 5.11%,\n",
    "- y obtuvimos un portafolio con volatilidad de 1.29%.\n",
    "- Claramente, \n",
    "$$1.29\\%\\ll0.5\\times 4.02\\%+0.5\\times 5.11\\%$$"
   ]
  },
  {
   "cell_type": "markdown",
   "metadata": {},
   "source": [
    "**Conclusión.** El riesgo de un portafolio no es el promedio ponderado de los riesgos individuales.\n",
    "___"
   ]
  },
  {
   "cell_type": "markdown",
   "metadata": {},
   "source": [
    "# Anuncios parroquiales\n",
    "\n",
    "## 1. Les dejo este enlace de un [artículo interesante](https://www.economist.com/buttonwoods-notebook/2016/01/13/stocks-for-the-long-run): los activos no siempre son mejor apuesta que los instrumentos de deuda, aunque la teoría nos diga lo contrario.\n",
    "\n",
    "## 2. Recordar que la clase de reposición es el sábado 28 de septiembre."
   ]
  },
  {
   "cell_type": "markdown",
   "metadata": {},
   "source": [
    "<script>\n",
    "  $(document).ready(function(){\n",
    "    $('div.prompt').hide();\n",
    "    $('div.back-to-top').hide();\n",
    "    $('nav#menubar').hide();\n",
    "    $('.breadcrumb').hide();\n",
    "    $('.hidden-print').hide();\n",
    "  });\n",
    "</script>\n",
    "\n",
    "<footer id=\"attribution\" style=\"float:right; color:#808080; background:#fff;\">\n",
    "Created with Jupyter by Esteban Jiménez Rodríguez.\n",
    "</footer>"
   ]
  }
 ],
 "metadata": {
  "kernelspec": {
   "display_name": "Python 3",
   "language": "python",
   "name": "python3"
  },
  "language_info": {
   "codemirror_mode": {
    "name": "ipython",
    "version": 3
   },
   "file_extension": ".py",
   "mimetype": "text/x-python",
   "name": "python",
   "nbconvert_exporter": "python",
   "pygments_lexer": "ipython3",
   "version": "3.7.3"
  }
 },
 "nbformat": 4,
 "nbformat_minor": 2
}
