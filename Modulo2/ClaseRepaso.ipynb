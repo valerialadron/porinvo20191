{
 "cells": [
  {
   "cell_type": "markdown",
   "metadata": {},
   "source": [
    "# Clase de repaso\n",
    "\n",
    "> El objetivo de esta clase es resolver una serie de ejercicios teóricos y prácticos relacionados con los contenidos de los módulos 1 y 2, en preparación para el examen.\n",
    "\n",
    "> Es válido que propongan ustedes mismos sus dudas de los temas tratados en estos módulos, o ejercicios que no hayan quedado claros de clases anteriores, tareas pasadas y/o quices.\n",
    "\n",
    "> La recomendación principal para el examen es que COMPRENDAN cada uno de los ejercicios de los quices y de las tareas. Si todo eso está claro, el examen será un simple trámite.\n",
    "___"
   ]
  },
  {
   "cell_type": "markdown",
   "metadata": {},
   "source": [
    "## Ejercicios varios tipo quiz.\n",
    "\n",
    "Una parte del examen consta de ejercicios parecidos a los de los quices realizados en los módulos 1 y 2. La diferencia con los quices, es que además de seleccionar la respuesta se debe dar una justificación de el porqué de la selección.\n",
    "\n",
    "Repasemos algunos ejercicios similares a los de los quices pasados."
   ]
  },
  {
   "cell_type": "markdown",
   "metadata": {},
   "source": [
    "**Pregunta 1.** Considere la siguiente distribución de rendimientos de los activos A, B y C:\n",
    "\n",
    "\n",
    "| Probabilidad     | Rendimiento A       | Rendimiento B         | Rendimiento C         |\n",
    "| ---------------- | ------------------  | -------------------   | ------------------    |\n",
    "| 30%              | -0.20               | -0.05                 | 0.05                  |\n",
    "| 40%              | 0.05                | 0.10                  | 0.03                  |\n",
    "| 30%              | 0.40                | 0.15                  | 0.02                  |\n",
    "\n",
    "\n",
    "¿Cuáles de las siguientes afirmaciones son correctas?\n",
    "\n",
    "A. $E[r_A] = 25.00\\%$, $E[r_B] = 20.00\\%$, $E[r_C] = 10.00\\%$.\n",
    "\n",
    "B. $E[r_A] = 8.00\\%$, $E[r_B] = 20.00\\%$, $E[r_C] = 3.30\\%$.\n",
    "\n",
    "C. $E[r_A] = 25.00\\%$, $E[r_B] = 7.00\\%$, $E[r_C] = 10.00\\%$.\n",
    "\n",
    "D. $E[r_A] = 8.00\\%$, $E[r_B] = 7.00\\%$, $E[r_C] = 3.30\\%$."
   ]
  },
  {
   "cell_type": "markdown",
   "metadata": {},
   "source": [
    "La respuesta correcta es (4%): D"
   ]
  },
  {
   "cell_type": "code",
   "execution_count": 4,
   "metadata": {},
   "outputs": [],
   "source": [
    "# La justificación a esta pregunta son los cálculos necesarios para llegar al resultado (4%)\n",
    "import pandas as pd\n",
    "import numpy as np\n",
    "import matplotlib.pyplot as plt"
   ]
  },
  {
   "cell_type": "code",
   "execution_count": 5,
   "metadata": {},
   "outputs": [
    {
     "data": {
      "text/html": [
       "<div>\n",
       "<style scoped>\n",
       "    .dataframe tbody tr th:only-of-type {\n",
       "        vertical-align: middle;\n",
       "    }\n",
       "\n",
       "    .dataframe tbody tr th {\n",
       "        vertical-align: top;\n",
       "    }\n",
       "\n",
       "    .dataframe thead th {\n",
       "        text-align: right;\n",
       "    }\n",
       "</style>\n",
       "<table border=\"1\" class=\"dataframe\">\n",
       "  <thead>\n",
       "    <tr style=\"text-align: right;\">\n",
       "      <th></th>\n",
       "      <th>prob</th>\n",
       "      <th>A</th>\n",
       "      <th>B</th>\n",
       "      <th>C</th>\n",
       "    </tr>\n",
       "  </thead>\n",
       "  <tbody>\n",
       "    <tr>\n",
       "      <th>0</th>\n",
       "      <td>0.3</td>\n",
       "      <td>-0.20</td>\n",
       "      <td>-0.05</td>\n",
       "      <td>0.05</td>\n",
       "    </tr>\n",
       "    <tr>\n",
       "      <th>1</th>\n",
       "      <td>0.4</td>\n",
       "      <td>0.05</td>\n",
       "      <td>0.10</td>\n",
       "      <td>0.03</td>\n",
       "    </tr>\n",
       "    <tr>\n",
       "      <th>2</th>\n",
       "      <td>0.3</td>\n",
       "      <td>0.40</td>\n",
       "      <td>0.15</td>\n",
       "      <td>0.02</td>\n",
       "    </tr>\n",
       "  </tbody>\n",
       "</table>\n",
       "</div>"
      ],
      "text/plain": [
       "   prob     A     B     C\n",
       "0   0.3 -0.20 -0.05  0.05\n",
       "1   0.4  0.05  0.10  0.03\n",
       "2   0.3  0.40  0.15  0.02"
      ]
     },
     "execution_count": 5,
     "metadata": {},
     "output_type": "execute_result"
    }
   ],
   "source": [
    "tabla = pd.DataFrame(columns=['prob', 'A', 'B', 'C'])\n",
    "tabla['prob'] = [0.3, 0.4, 0.3]\n",
    "tabla['A'] = [-0.2, 0.05, 0.4]\n",
    "tabla['B'] = [-0.05, 0.1, 0.15]\n",
    "tabla['C'] = [0.05, 0.03, 0.02]\n",
    "tabla"
   ]
  },
  {
   "cell_type": "code",
   "execution_count": 6,
   "metadata": {},
   "outputs": [
    {
     "data": {
      "text/plain": [
       "(0.08, 0.07, 0.033)"
      ]
     },
     "execution_count": 6,
     "metadata": {},
     "output_type": "execute_result"
    }
   ],
   "source": [
    "EA = (tabla['prob'] * tabla['A']).sum()\n",
    "EB = (tabla['prob'] * tabla['B']).sum()\n",
    "EC = (tabla['prob'] * tabla['C']).sum()\n",
    "EA, EB, EC"
   ]
  },
  {
   "cell_type": "markdown",
   "metadata": {},
   "source": [
    "**Pregunta 2.** Considere la siguiente distribución de rendimientos de los activos A, B y C:\n",
    "\n",
    "\n",
    "| Probabilidad     | Rendimiento A       | Rendimiento B         | Rendimiento C         |\n",
    "| ---------------- | ------------------  | -------------------   | ------------------    |\n",
    "| 30%              | -0.20               | -0.05                 | 0.05                  |\n",
    "| 40%              | 0.05                | 0.10                  | 0.03                  |\n",
    "| 30%              | 0.40                | 0.15                  | 0.02                  |\n",
    "\n",
    "\n",
    "¿Cuáles de las siguientes afirmaciones son correctas?\n",
    "\n",
    "A. $\\sigma_A = 27.33\\%$, $\\sigma_B = 8.12\\%$, $\\sigma_C = 1.91\\%$.\n",
    "\n",
    "B. $\\sigma_A = 23.37\\%$, $\\sigma_B = 8.12\\%$, $\\sigma_C = 1.19\\%$.\n",
    "\n",
    "C. $\\sigma_A = 23.37\\%$, $\\sigma_B = 12.08\\%$, $\\sigma_C = 1.91\\%$.\n",
    "\n",
    "D. $\\sigma_A = 27.33\\%$, $\\sigma_B = 12.08\\%$, $\\sigma_C = 1.19\\%$."
   ]
  },
  {
   "cell_type": "markdown",
   "metadata": {},
   "source": [
    "La respuesta correcta es (4%): B"
   ]
  },
  {
   "cell_type": "code",
   "execution_count": 14,
   "metadata": {},
   "outputs": [
    {
     "data": {
      "text/plain": [
       "(0.23366642891095846, 0.08124038404635961, 0.011874342087037918)"
      ]
     },
     "execution_count": 14,
     "metadata": {},
     "output_type": "execute_result"
    }
   ],
   "source": [
    "# La justificación a esta pregunta son los cálculos necesarios para llegar al resultado (4%)\n",
    "sA = ((tabla['A'] - EA)**2 * tabla['prob']).sum()**0.5\n",
    "sB = ((tabla['B'] - EB)**2 * tabla['prob']).sum()**0.5\n",
    "sC = ((tabla['C'] - EC)**2 * tabla['prob']).sum()**0.5\n",
    "sA, sB, sC"
   ]
  },
  {
   "cell_type": "markdown",
   "metadata": {},
   "source": [
    "**Pregunta 3.** Considere la siguiente distribución de rendimientos de los activos A, B y C:\n",
    "\n",
    "\n",
    "| Probabilidad     | Rendimiento A       | Rendimiento B         | Rendimiento C         |\n",
    "| ---------------- | ------------------  | -------------------   | ------------------    |\n",
    "| 30%              | -0.20               | -0.05                 | 0.05                  |\n",
    "| 40%              | 0.05                | 0.10                  | 0.03                  |\n",
    "| 30%              | 0.40                | 0.15                  | 0.02                  |\n",
    "\n",
    "\n",
    "¿Cuáles de las siguientes afirmaciones son correctas?\n",
    "\n",
    "A. $\\sigma_{AB} = 0.0174$, $\\sigma_{AC} = 0.00264$, $\\sigma_{BC} = 0.00096$.\n",
    "\n",
    "B. $\\sigma_{AB} = -0.0174$, $\\sigma_{AC} = -0.00264$, $\\sigma_{BC} = 0.00096$.\n",
    "\n",
    "C. $\\sigma_{AB} = 0.0174$, $\\sigma_{AC} = -0.00264$, $\\sigma_{BC} = -0.00096$.\n",
    "\n",
    "D. $\\sigma_{AB} = -0.0174$, $\\sigma_{AC} = 0.00264$, $\\sigma_{BC} = -0.00096$."
   ]
  },
  {
   "cell_type": "markdown",
   "metadata": {},
   "source": [
    "La respuesta correcta es (4%): C"
   ]
  },
  {
   "cell_type": "code",
   "execution_count": 15,
   "metadata": {},
   "outputs": [
    {
     "data": {
      "text/plain": [
       "(0.017400000000000002, -0.0026400000000000004, -0.0009600000000000001)"
      ]
     },
     "execution_count": 15,
     "metadata": {},
     "output_type": "execute_result"
    }
   ],
   "source": [
    "# La justificación a esta pregunta son los cálculos necesarios para llegar al resultado (4%)\n",
    "sAB = (tabla['prob'] * (tabla['A'] - EA) * (tabla['B'] - EB)).sum()\n",
    "sAC = (tabla['prob'] * (tabla['A'] - EA) * (tabla['C'] - EC)).sum()\n",
    "sBC = (tabla['prob'] * (tabla['B'] - EB) * (tabla['C'] - EC)).sum()\n",
    "sAB, sAC, sBC"
   ]
  },
  {
   "cell_type": "markdown",
   "metadata": {},
   "source": [
    "**Pregunta 4.** Considere la siguiente distribución de rendimientos de los activos A, B y C:\n",
    "\n",
    "\n",
    "| Probabilidad     | Rendimiento A       | Rendimiento B         | Rendimiento C         |\n",
    "| ---------------- | ------------------  | -------------------   | ------------------    |\n",
    "| 30%              | -0.20               | -0.05                 | 0.05                  |\n",
    "| 40%              | 0.05                | 0.10                  | 0.03                  |\n",
    "| 30%              | 0.40                | 0.15                  | 0.02                  |\n",
    "\n",
    "\n",
    "¿Cuál es el rendimiento esperado y volatilidad de un portafolio formado por 20% del activo A, 30% del activo B y 50% del activo C?\n",
    "\n",
    "A. $E[r_P] = 5.53\\%$, $\\sigma_P=6.39\\%$.\n",
    "\n",
    "B. $E[r_P] = 5.53\\%$, $\\sigma_P=7.71\\%$.\n",
    "\n",
    "C. $E[r_P] = 3.55\\%$, $\\sigma_P=7.71\\%$.\n",
    "\n",
    "D. $E[r_P] = 5.35\\%$, $\\sigma_P=6.39\\%$."
   ]
  },
  {
   "cell_type": "markdown",
   "metadata": {},
   "source": [
    "La respuesta correcta es (4%): D"
   ]
  },
  {
   "cell_type": "code",
   "execution_count": 19,
   "metadata": {},
   "outputs": [
    {
     "data": {
      "text/plain": [
       "(0.053500000000000006, 0.06391596044807588)"
      ]
     },
     "execution_count": 19,
     "metadata": {},
     "output_type": "execute_result"
    }
   ],
   "source": [
    "# La justificación a esta pregunta son los cálculos necesarios para llegar al resultado (4%)\n",
    "# 1 forma\n",
    "tabla['port'] = 0.2 * tabla['A'] + 0.3 * tabla['B'] + 0.5 * tabla['C']\n",
    "Eport = (tabla['prob'] * tabla['port']).sum()\n",
    "sport = ((tabla['port'] - Eport)**2 * tabla['prob']).sum()**0.5\n",
    "Eport, sport"
   ]
  },
  {
   "cell_type": "code",
   "execution_count": 21,
   "metadata": {},
   "outputs": [
    {
     "data": {
      "text/plain": [
       "(0.053500000000000006, 0.06391596044807588)"
      ]
     },
     "execution_count": 21,
     "metadata": {},
     "output_type": "execute_result"
    }
   ],
   "source": [
    "# Otra forma\n",
    "E = np.array([EA, EB, EC])\n",
    "Sigma = np.array([[sA**2, sAB, sAC],\n",
    "                  [sAB, sB**2, sBC],\n",
    "                  [sAC, sBC, sC**2]])\n",
    "w = np.array([0.2, 0.3, 0.5])\n",
    "Eport = E.T.dot(w)\n",
    "sport = (w.T.dot(Sigma).dot(w))**0.5\n",
    "Eport, sport"
   ]
  },
  {
   "cell_type": "markdown",
   "metadata": {},
   "source": [
    "**Pregunta 5.** ¿Cuál de las siguientes proposiciones es falsa acerca de la frontera de mínima varianza?\n",
    "\n",
    "A. La parte de abajo de la frontera de mínima varianza es la frontera eficiente.\n",
    "\n",
    "B. Para dos activos, la frontera de mínima varianza es simplemente todas las posibles combinaciones de portafolios entre los dos activos.\n",
    "\n",
    "C. La frontera de mínima varianza se expande a medida que agregamos más activos al portafolio.\n",
    "\n",
    "D. La frontera de mínima varianza es el lugar geométrico en el espacio de rendimiento esperado contra volatilidad que tiene mínima varianza para cada rendmiento esperado."
   ]
  },
  {
   "cell_type": "markdown",
   "metadata": {},
   "source": [
    "La respuesta correcta es (4%): A"
   ]
  },
  {
   "cell_type": "markdown",
   "metadata": {},
   "source": [
    "Justificación (4%): porque la frontera eficiente, o los portafolios eficientes, están sobre la frontera de mínima varianza por encima y a partir del portafolio de mínima varianza. "
   ]
  },
  {
   "cell_type": "markdown",
   "metadata": {},
   "source": [
    "**Pregunta 6.** ¿Cuáles de los siguientes son ejemplos de riesgo de mercado (sistemático)?\n",
    "\n",
    "A. Crisis económica de la unión europea.\n",
    "\n",
    "B. Brexit.\n",
    "\n",
    "C. Renuncia del gerente regional de Santander.\n",
    "\n",
    "D. Debido a una temporada de lluvias más bien seca, hay escasez de maiz."
   ]
  },
  {
   "cell_type": "markdown",
   "metadata": {},
   "source": [
    "La respuesta correcta es (4%): A y B"
   ]
  },
  {
   "cell_type": "markdown",
   "metadata": {},
   "source": [
    "Justificación (4%): mientras que A y B son fenómenos que afectan la economía de toda la unión europea, y por ende a todo el mundo, C y D son fenómenos que afectan solo a Santander y al sector agropecuario relacionado con el maiz, respectivamente."
   ]
  },
  {
   "cell_type": "markdown",
   "metadata": {},
   "source": [
    "**Pregunta 7.** ¿Cuál se utiliza comúnmente como medida de riesgo en los rendimientos?\n",
    "\n",
    "A. Rendimiento esperado.\n",
    "\n",
    "B. Inflación.\n",
    "\n",
    "C. Desviación estándar.\n",
    "\n",
    "D. Rendimiento medio geométrico."
   ]
  },
  {
   "cell_type": "markdown",
   "metadata": {},
   "source": [
    "La respuesta correcta es (4%): C"
   ]
  },
  {
   "cell_type": "markdown",
   "metadata": {},
   "source": [
    "Justificación (4%): asociamos el riesgo a incertidumbre o dispersión. Por tanto la desviación estándar la adoptamos como medida común para el riesgo."
   ]
  },
  {
   "cell_type": "markdown",
   "metadata": {},
   "source": [
    "## Segunda parte del examen\n",
    "\n",
    "Respecto a la segunda parte, será algo muy similar a la Tarea 5. Recomendación: entender bien la clase 10 y esta tarea. Si quieren seguir practicando, elegir activos de interés y replicar los análisis realizado."
   ]
  },
  {
   "cell_type": "markdown",
   "metadata": {},
   "source": [
    "<script>\n",
    "  $(document).ready(function(){\n",
    "    $('div.prompt').hide();\n",
    "    $('div.back-to-top').hide();\n",
    "    $('nav#menubar').hide();\n",
    "    $('.breadcrumb').hide();\n",
    "    $('.hidden-print').hide();\n",
    "  });\n",
    "</script>\n",
    "\n",
    "<footer id=\"attribution\" style=\"float:right; color:#808080; background:#fff;\">\n",
    "Created with Jupyter by Esteban Jiménez Rodríguez.\n",
    "</footer>"
   ]
  }
 ],
 "metadata": {
  "kernelspec": {
   "display_name": "Python 3",
   "language": "python",
   "name": "python3"
  },
  "language_info": {
   "codemirror_mode": {
    "name": "ipython",
    "version": 3
   },
   "file_extension": ".py",
   "mimetype": "text/x-python",
   "name": "python",
   "nbconvert_exporter": "python",
   "pygments_lexer": "ipython3",
   "version": "3.7.3"
  }
 },
 "nbformat": 4,
 "nbformat_minor": 2
}
